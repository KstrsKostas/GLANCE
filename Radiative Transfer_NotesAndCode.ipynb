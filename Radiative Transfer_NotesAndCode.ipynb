{
 "cells": [
  {
   "cell_type": "code",
   "execution_count": 5,
   "metadata": {},
   "outputs": [],
   "source": [
    "%display latex"
   ]
  },
  {
   "cell_type": "markdown",
   "metadata": {},
   "source": [
    "# Radiative Transfer"
   ]
  },
  {
   "cell_type": "markdown",
   "metadata": {},
   "source": [
    "## Outline\n",
    "We are using a backwards-ray tracing algorithm, so the basic steps we follow are:\n",
    "1. We set up a screen (divided into a grid of pixels) at the observer's location. This is where the photons emitted from the accretion disk are captured.\n",
    "2. We launch a null geodesic from each pixel of said screen towards the black hole. \n",
    "3. We find the intersection points of the geodesic with whatever accretion disk we've set up <br> and keep the part of the geodesic that lies withing this disk.\n",
    "4. For each point of the numerical solution of the geodesic that is in the disk, we calculate the emmited radiation by considering the local conditions. We need to calculate:\n",
    "    1. The fluid's 4-velocity. We do so assuming Keplerian rotation for the disk\n",
    "    2. The local emissivity\n",
    "    3. The intensity of the radiation\n",
    "5. We transform the radiation to the observer's frame accounting for the Doppler shift and gravitational redshift\n",
    "\n",
    "\n",
    "        \n",
    "    \n"
   ]
  },
  {
   "cell_type": "markdown",
   "metadata": {},
   "source": [
    "Assume we are following a single light ray. The portion of it that lies in the disk is denoted as **geodesic_sol** and it is a list of lists of the form $[\\lambda,t,r,\\theta,\\phi]$. We calculate its 4-velocity at every point (iterating through the solution), calculating its numerical derivatives: "
   ]
  },
  {
   "cell_type": "code",
   "execution_count": 4,
   "metadata": {},
   "outputs": [],
   "source": [
    "def calc_4_velocity4(geodesic_sol):\n",
    "    result = []\n",
    "    for i in range(2, len(geodesic_sol)-2):\n",
    "        r = geodesic_sol[i][1]\n",
    "        vr = (-geodesic_sol[i+2][2] + 8*geodesic_sol[i+1][2] - 8*geodesic_sol[i-1][2] + geodesic_sol[i-2][2]) / (12*(geodesic_sol[i+1][0] - geodesic_sol[i][0]))\n",
    "        vtheta = (-geodesic_sol[i+2][3] + 8*geodesic_sol[i+1][3] - 8*geodesic_sol[i-1][3] + geodesic_sol[i-2][3]) / (12*(geodesic_sol[i+1][0] - geodesic_sol[i][0]))\n",
    "        vphi = (-geodesic_sol[i+2][4] + 8*geodesic_sol[i+1][4] - 8*geodesic_sol[i-1][4] + geodesic_sol[i-2][4]) / (12*(geodesic_sol[i+1][0] - geodesic_sol[i][0]))\n",
    "        vt = (-geodesic_sol[i+2][1] + 8*geodesic_sol[i+1][1] - 8*geodesic_sol[i-1][1] + geodesic_sol[i-2][1]) / (12*(geodesic_sol[i+1][0] - geodesic_sol[i][0]))\n",
    "        result.append((geodesic_sol[i][0],[geodesic_sol[i][1],geodesic_sol[i][2],geodesic_sol[i][3],geodesic_sol[i][4],vt, vr, vtheta, vphi]))\n",
    "    return result"
   ]
  },
  {
   "cell_type": "markdown",
   "metadata": {},
   "source": [
    "To make things simpler, **calc_4_velocity4** returns a list of the form\n",
    "$[\\lambda,[t,r,\\theta,\\phi,\\dot{t},\\dot{r},\\dot{\\theta},\\dot{\\phi}]$, so for every point of the geodesic we have everything we need in a single list.\n",
    "\n"
   ]
  },
  {
   "cell_type": "markdown",
   "metadata": {},
   "source": [
    "Now that we have the light ray and its 4-velocity, let's be a little bit clearer about the process before moving on to the code."
   ]
  },
  {
   "cell_type": "markdown",
   "metadata": {},
   "source": [
    "At every point, there is an interaction of the disk with the photon. This interaction is encoded in the quantity $-k_a u^a$ that is the energy of the photon in the fluid's local rest frame. Here, $k_a$ is the photon's 4-momentum and $u^a$ is the fluid's 4-velocity. We essentially take this energy to be that of an emitted photon at that point of the disk that then travels to meet our screen. To account for the redshift of the photon's energy, we'll use the redshift factor <br>\n",
    "<br>\n",
    "$$\\gamma^{-1}=\\frac{\\nu_{em}}{\\nu_{obs}}=\\frac{-k_a u^a}{E_{0}}=\\frac{E_{em}}{E_{0}}$$"
   ]
  },
  {
   "cell_type": "markdown",
   "metadata": {},
   "source": [
    "where in this equation, $E_0$ is the energy we use to launch the light ray, $E_0=1$, and serves as a reference. To calculate the energy of the photon when it reaches our screen, $E_{obs}$, we use $E_{obs}=\\gamma E_{em}$. "
   ]
  },
  {
   "cell_type": "markdown",
   "metadata": {},
   "source": [
    "Having set a local rest-frame emissivity $j0$, we can then calculate the intensity of every photon through $$I=\\gamma^{-1}\\left(\\frac{j_0}{E^3_{em}}\\right),$$ assuming that the absorption coefficient is $a_0=0$."
   ]
  },
  {
   "cell_type": "markdown",
   "metadata": {},
   "source": [
    "In conclusion, for every light ray that travels through the accretion disk, there will be a photon of a specific energy and intensity emitted in every point. We will use all of these photons to create a histogram of intensity and the ratio $\\frac{E_{obs}}{E_{em}}$."
   ]
  },
  {
   "cell_type": "markdown",
   "metadata": {},
   "source": [
    "<div class=\"alert alert-block alert-danger\">\n",
    "<b>Point for clarification:</b> We use $\\frac{E_{em}}{E_{0}}$ to define the inverse of the redshift factor and then use this factor to find the observed energy at our screen. \"Which of these $\\gamma$s\" should we use in the Intensity function? In the code below, I use the original one.\n",
    "</div>"
   ]
  },
  {
   "cell_type": "markdown",
   "metadata": {},
   "source": [
    "## Calculation of Intensity and Ratio"
   ]
  },
  {
   "cell_type": "markdown",
   "metadata": {},
   "source": [
    "The function below, is called for every point of a geodesic.<br> **Note:** Assuming Keplerian motion for the disk, its azimuthial velocity at every point is given by:<br><br>$$v_{\\phi}=\\sqrt{\\frac{m}{ (r^3 + a \\sqrt{(m r)})}}$$"
   ]
  },
  {
   "cell_type": "code",
   "execution_count": 8,
   "metadata": {},
   "outputs": [],
   "source": [
    "def intensity_at_point(points_4_velocity, E0, a_value, m_value):\n",
    "    t, r, theta, phi, vt, vr, vtheta, vphi = points_4_velocity\n",
    "    z = r * np.cos(theta)\n",
    "    density = density_at_point(r, z,boundaries) #simple 1/r^n for now#\n",
    "    \n",
    "    #We manually set up the Kerr metric\n",
    "    \n",
    "    rho2 = r**2 + (a_value * np.cos(theta))**2\n",
    "    Delta = r**2 - 2*m_value*r + a_value**2\n",
    "    g = np.array([\n",
    "        [-1 + 2*m_value*r / rho2, 0, 0, -2*a_value*m_value*r * np.sin(theta)**2 / rho2],\n",
    "        [0, rho2 / Delta, 0, 0],\n",
    "        [0, 0, rho2, 0],\n",
    "        [-2*a_value*m_value*r * np.sin(theta)**2 / rho2, 0, 0, (r**2 + a_value**2 + 2*a_value*m_value*r * np.sin(theta)**2 / rho2) * np.sin(theta)**2]\n",
    "    ])\n",
    "\n",
    "    \n",
    "    #Use the metric to calculate the photon's 4-momentum from its 4-velocity\n",
    "    k_alpha = np.dot(g, np.array([vt, vr, vtheta, vphi]))\n",
    "\n",
    "    \n",
    "    #Calculate the fluids 4-velocity.\n",
    "    \n",
    "    #Assuming Keplerian motion, its azimuthial velocity will be given by:\n",
    "    vphi_fluid = calculate_azimuthal_velocity(r, theta, a_value, m_value)\n",
    "    \n",
    "    \n",
    "    #temporary fluid 4-velocity.\n",
    "    u_beta_candidate = np.array([1, 0, 0, vphi_fluid])\n",
    "    \n",
    "    \n",
    "    #set up a dot product with the metric to normalize the 4-velocity\n",
    "    dot_product = np.dot(u_beta_candidate, np.dot(g, u_beta_candidate))\n",
    "    \n",
    "\n",
    "    #4-velocity Normalization\n",
    "    vt_fluid = np.sqrt(-1 / dot_product)\n",
    "    vphi_fluid = vphi_fluid*np.sqrt(-1 / dot_product)\n",
    "    \n",
    "\n",
    "    #Final 4-velocity of the Fluid\n",
    "    u_beta = np.array([vt_fluid, 0, 0, vphi_fluid])\n",
    "    \n",
    "\n",
    "    #Energy of the photon in the fluid's rest frame\n",
    "    k_alpha_u_alpha = np.dot(k_alpha, u_beta)\n",
    "    E_em=-k_alpha_u_alpha\n",
    "    \n",
    "    \n",
    "    #redshift factor\n",
    "    gamma_inv = E_em / E0\n",
    "    gamma = 1 / gamma_inv\n",
    "\n",
    "\n",
    "    #energy that reaches the observer's screen\n",
    "    E_obs = E_em*gamma \n",
    "\n",
    "\n",
    "    #optical depth if any\n",
    "    optical_depth = 0\n",
    "\n",
    "    #absorption if any\n",
    "    alpha0 = 0  \n",
    "\n",
    "    # update optical depth\n",
    "    optical_depth += gamma_inv * alpha0\n",
    "\n",
    "    #local rest-frame emissivity j0\n",
    "    j0 = density  # Here, we use density as a proxy\n",
    "\n",
    "\n",
    "\n",
    "    #Intensity\n",
    "    intensity = gamma_inv * (j0 / E_em**3) * np.exp(-optical_depth)\n",
    "\n",
    "    ratio=E_obs/E_em\n",
    "\n",
    "\n",
    "    return intensity, ratio"
   ]
  },
  {
   "cell_type": "code",
   "execution_count": null,
   "metadata": {},
   "outputs": [],
   "source": []
  }
 ],
 "metadata": {
  "kernelspec": {
   "display_name": "SageMath 9.3",
   "language": "sage",
   "name": "sagemath"
  },
  "language_info": {
   "codemirror_mode": {
    "name": "ipython",
    "version": 3
   },
   "file_extension": ".py",
   "mimetype": "text/x-python",
   "name": "python",
   "nbconvert_exporter": "python",
   "pygments_lexer": "ipython3",
   "version": "3.7.10"
  }
 },
 "nbformat": 4,
 "nbformat_minor": 4
}
